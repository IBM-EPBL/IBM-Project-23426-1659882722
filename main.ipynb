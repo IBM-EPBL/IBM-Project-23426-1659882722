{
 "cells": [
  {
   "cell_type": "code",
   "execution_count": null,
   "metadata": {},
   "outputs": [],
   "source": []
  }
 ],
 "metadata": {
  "kernelspec": {
   "display_name": "Python 3.9.13 64-bit (windows store)",
   "language": "python",
   "name": "python3"
  },
  "language_info": {
   "name": "python",
   "version": "3.9.13"
  },
  "orig_nbformat": 4,
  "vscode": {
   "interpreter": {
    "hash": "f19a787c370dd2db2145cfad1c6c1e72e28a1bcec257466b835d81c4d8b8397a"
   }
  }
 },
 "nbformat": 4,
 "nbformat_minor": 2
}
